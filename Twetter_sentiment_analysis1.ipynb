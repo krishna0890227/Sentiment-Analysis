{
 "cells": [
  {
   "cell_type": "code",
   "execution_count": 14,
   "metadata": {},
   "outputs": [],
   "source": [
    "import string\n",
    "from collections import Counter\n",
    "import matplotlib.pyplot as plt\n",
    "import GetOldTweets3 as got\n",
    "import nltk\n",
    "from nltk.tokenize import word_tokenize\n",
    "from nltk.corpus import stopwords"
   ]
  },
  {
   "cell_type": "code",
   "execution_count": 15,
   "metadata": {},
   "outputs": [],
   "source": [
    "def get_tweets():\n",
    "    tweetCriteria = got.manager.TweetCriteria().setQuerySearch('corona virus')\\\n",
    "                                           .setSince(\"2019-09-01\")\\\n",
    "                                           .setUntil(\"2020-05-30\")\\\n",
    "                                           .setMaxTweets(200)\n",
    "    tweets = got.manager.TweetManager.getTweets(tweetCriteria)\n",
    "    text_tweets=[[tweet.text] for tweet in tweets]\n",
    "    return text_tweets\n",
    "\n",
    "text=\"\"\n",
    "text_tweets=get_tweets()\n",
    "length=len(text_tweets)\n",
    "\n",
    "for i in range(0, length):\n",
    "    text=text_tweets[i][0] + \"  \" + text\n",
    "    "
   ]
  },
  {
   "cell_type": "code",
   "execution_count": 16,
   "metadata": {},
   "outputs": [],
   "source": [
    "# text=open('input.txt', encoding='utf8').read()\n",
    "lower_case=text.lower()\n",
    "#print(lower_case)\n",
    "cleaned_data=lower_case.translate(str.maketrans('','', string.punctuation))\n",
    "#print(cleaned_data)"
   ]
  },
  {
   "cell_type": "code",
   "execution_count": 17,
   "metadata": {},
   "outputs": [],
   "source": [
    "tokens=word_tokenize(cleaned_data, \"english\")\n",
    "tagged = nltk.pos_tag(tokens)\n",
    "#print(toknization_words)"
   ]
  },
  {
   "cell_type": "code",
   "execution_count": 20,
   "metadata": {},
   "outputs": [],
   "source": [
    "final_words=[]\n",
    "for word in tokens:\n",
    "    if word not in stopwords.words('english'):\n",
    "        final_words.append(word)\n",
    "\n",
    "#print(final_words)"
   ]
  },
  {
   "cell_type": "code",
   "execution_count": 21,
   "metadata": {},
   "outputs": [
    {
     "name": "stdout",
     "output_type": "stream",
     "text": [
      "[' bored', ' free', ' attached', ' angry', ' safe', ' sad', ' independent', ' powerless', ' fearful', ' happy', ' loved', ' happy']\n",
      "Counter({' happy': 2, ' bored': 1, ' free': 1, ' attached': 1, ' angry': 1, ' safe': 1, ' sad': 1, ' independent': 1, ' powerless': 1, ' fearful': 1, ' loved': 1})\n"
     ]
    }
   ],
   "source": [
    "emotion_list=[]\n",
    "with open('emotions.txt', 'r') as file:\n",
    "    for line in file:\n",
    "        clear_line=line.replace('\\n','').replace(',','').replace(\"'\", '').strip()\n",
    "        word, emotion = clear_line.split(':')\n",
    "        #print(\"Word :\" + word + \"  Emotion :\" + emotion)\n",
    "        if word in final_words:\n",
    "            emotion_list.append(emotion)\n",
    "            \n",
    "print(emotion_list)\n",
    "Count=Counter(emotion_list)\n",
    "print(Count)"
   ]
  },
  {
   "cell_type": "code",
   "execution_count": 22,
   "metadata": {},
   "outputs": [
    {
     "data": {
      "image/png": "[encoded data removed]",
      "text/plain": [
       "<Figure size 432x288 with 1 Axes>"
      ]
     },
     "metadata": {
      "needs_background": "light"
     },
     "output_type": "display_data"
    }
   ],
   "source": [
    "fig, ax1=plt.subplots()\n",
    "ax1.bar(Count.keys(), Count.values())\n",
    "fig.autofmt_xdate()\n",
    "plt.savefig('senti_fig.png')\n",
    "plt.show()"
   ]
  }
 ],
 "metadata": {
  "kernelspec": {
   "display_name": "Python 3",
   "language": "python",
   "name": "python3"
  },
  "language_info": {
   "codemirror_mode": {
    "name": "ipython",
    "version": 3
   },
   "file_extension": ".py",
   "mimetype": "text/x-python",
   "name": "python",
   "nbconvert_exporter": "python",
   "pygments_lexer": "ipython3",
   "version": "3.7.4"
  }
 },
 "nbformat": 4,
 "nbformat_minor": 2
}
