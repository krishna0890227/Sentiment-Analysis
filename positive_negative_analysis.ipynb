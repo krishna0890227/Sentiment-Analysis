{
 "cells": [
  {
   "cell_type": "code",
   "execution_count": 10,
   "metadata": {},
   "outputs": [],
   "source": [
    "import string\n",
    "from collections import Counter\n",
    "import matplotlib.pyplot as plt\n",
    "import nltk\n",
    "from nltk.tokenize import word_tokenize\n",
    "from nltk.sentiment.vader import SentimentIntensityAnalyzer\n",
    "from nltk.corpus import stopwords"
   ]
  },
  {
   "cell_type": "code",
   "execution_count": 2,
   "metadata": {},
   "outputs": [],
   "source": [
    "text=open(\"input.txt\", encoding=\"utf-8\").read()\n",
    "#print(text)"
   ]
  },
  {
   "cell_type": "code",
   "execution_count": 3,
   "metadata": {},
   "outputs": [],
   "source": [
    "lower_text=text.lower()\n",
    "cleaned_text=lower_text.translate(str.maketrans('', '', string.punctuation))\n",
    "#print(cleaned_text)"
   ]
  },
  {
   "cell_type": "code",
   "execution_count": 4,
   "metadata": {},
   "outputs": [],
   "source": [
    "tokenize_words=word_tokenize(cleaned_text)\n",
    "\n",
    "final_words=[]\n",
    "for word in tokenize_words:\n",
    "    if word not in stopwords.words(\"english\"):\n",
    "        final_words.append(word)\n"
   ]
  },
  {
   "cell_type": "code",
   "execution_count": 11,
   "metadata": {},
   "outputs": [
    {
     "name": "stdout",
     "output_type": "stream",
     "text": [
      "[' attracted', ' fearful', ' happy', ' powerless', ' happy', ' hated', ' fearless', ' anxious', ' fearful', ' lustful', ' adequate', ' singled out', ' fearful']\n",
      "Counter({' fearful': 3, ' happy': 2, ' attracted': 1, ' powerless': 1, ' hated': 1, ' fearless': 1, ' anxious': 1, ' lustful': 1, ' adequate': 1, ' singled out': 1})\n"
     ]
    }
   ],
   "source": [
    "emotion_list=[]\n",
    "with open('emotions.txt', 'r') as file:\n",
    "    for line in file:\n",
    "        clear_line=line.replace('\\n','').replace(',','').replace(\"'\", '').strip()\n",
    "        word, emotion = clear_line.split(':')\n",
    "        #print(\"Word :\" + word + \"  Emotion :\" + emotion)\n",
    "        if word in final_words:\n",
    "            emotion_list.append(emotion)\n",
    "            \n",
    "print(emotion_list)\n",
    "Count=Counter(emotion_list)\n",
    "print(Count)"
   ]
  },
  {
   "cell_type": "code",
   "execution_count": 14,
   "metadata": {},
   "outputs": [],
   "source": [
    "def sentiment_analyze(sentiment_text):\n",
    "    score=SentimentIntensityAnalyzer().polarity_scores(sentiment_text)\n",
    "    neg=score['neg']\n",
    "    pos=score['pos']\n",
    "    if neg>pos:\n",
    "        return(\"Negative Sentiment\")\n",
    "    elif pos>neg:\n",
    "        return(\"Positive Sentiment\")\n",
    "    else :\n",
    "        return(\"Neutral Condition\")\n",
    "    \n",
    "    \n",
    "Sentiment=sentiment_analyze(cleaned_text)"
   ]
  },
  {
   "cell_type": "code",
   "execution_count": 15,
   "metadata": {},
   "outputs": [
    {
     "data": {
      "image/png": "[encoded data removed]",
      "text/plain": [
       "<Figure size 432x288 with 1 Axes>"
      ]
     },
     "metadata": {
      "needs_background": "light"
     },
     "output_type": "display_data"
    }
   ],
   "source": [
    "fig, ax1=plt.subplots()\n",
    "ax1.bar(Count.keys(), Count.values())\n",
    "fig.autofmt_xdate()\n",
    "plt.title(\" %s\" %Sentiment)\n",
    "plt.savefig('analyser.png')\n",
    "plt.show()"
   ]
  }
 ],
 "metadata": {
  "kernelspec": {
   "display_name": "Python 3",
   "language": "python",
   "name": "python3"
  },
  "language_info": {
   "codemirror_mode": {
    "name": "ipython",
    "version": 3
   },
   "file_extension": ".py",
   "mimetype": "text/x-python",
   "name": "python",
   "nbconvert_exporter": "python",
   "pygments_lexer": "ipython3",
   "version": "3.7.4"
  }
 },
 "nbformat": 4,
 "nbformat_minor": 2
}
